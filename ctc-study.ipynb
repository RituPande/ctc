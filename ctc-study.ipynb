{
 "cells": [
  {
   "cell_type": "markdown",
   "id": "palestinian-nebraska",
   "metadata": {
    "papermill": {
     "duration": 0.007075,
     "end_time": "2021-08-04T01:06:46.312681",
     "exception": false,
     "start_time": "2021-08-04T01:06:46.305606",
     "status": "completed"
    },
    "tags": []
   },
   "source": [
    "# Connectionist Temporal Classification: A Study\n",
    "\n",
    "This notebook is a part of a project to study Connectionist Temporal Classsification or CTC. CTC is a neural network output decoding and scoring algorithm that is used in sequence to sequence deep learning models when:  \n",
    "- The length of the output sequence is less than the length of the input sequence and\n",
    "- The order of the output w.r.t. the input is the same and \n",
    "- To align the shorter output w.r.t. the input, it makes sense to repeat the same output symbol in multiple steps.\n",
    "\n",
    "CTC is primarily used in speech-recognition and OCR decoding.\n",
    "\n",
    "This notebook explores usage of CTC algorithm for a use-case that satisfies the above criteria by creation of custom Keras model,accuracy metrics and loss function. You can visit the [project site]() for further details."
   ]
  },
  {
   "cell_type": "markdown",
   "id": "creative-military",
   "metadata": {
    "papermill": {
     "duration": 0.005749,
     "end_time": "2021-08-04T01:06:46.324573",
     "exception": false,
     "start_time": "2021-08-04T01:06:46.318824",
     "status": "completed"
    },
    "tags": []
   },
   "source": [
    "### 1. Read data and create custom model"
   ]
  },
  {
   "cell_type": "code",
   "execution_count": 1,
   "id": "welcome-emperor",
   "metadata": {
    "execution": {
     "iopub.execute_input": "2021-08-04T01:06:46.340102Z",
     "iopub.status.busy": "2021-08-04T01:06:46.339089Z",
     "iopub.status.idle": "2021-08-04T01:06:52.567893Z",
     "shell.execute_reply": "2021-08-04T01:06:52.566879Z"
    },
    "papermill": {
     "duration": 6.237534,
     "end_time": "2021-08-04T01:06:52.568071",
     "exception": false,
     "start_time": "2021-08-04T01:06:46.330537",
     "status": "completed"
    },
    "tags": []
   },
   "outputs": [],
   "source": [
    "import captcha_dataset as cds\n",
    "import captcha_model\n",
    "import matplotlib.pyplot as plt\n",
    "import numpy as np\n",
    "import keras.backend as K\n",
    "\n",
    "\n",
    "IMG_DIR='/kaggle/input/captcha-version-2-images/samples'\n",
    "image_width = 200\n",
    "image_height = 50\n",
    "batch_size = 64\n",
    "downsample_factor = 4\n",
    "max_label_len = 5\n",
    "\n",
    "obj = cds.CaptchaData( IMG_DIR,image_height,image_width, batch_size,downsample_factor)\n",
    "train, test = obj.split_train_test()\n",
    "train = obj.make_batches(train)\n",
    "num_classes  = obj.get_vocab_size()\n",
    "model = captcha_model.CaptchaModel(num_classes, image_width, image_height )"
   ]
  },
  {
   "cell_type": "markdown",
   "id": "dietary-integration",
   "metadata": {
    "papermill": {
     "duration": 0.006085,
     "end_time": "2021-08-04T01:06:52.580895",
     "exception": false,
     "start_time": "2021-08-04T01:06:52.574810",
     "status": "completed"
    },
    "tags": []
   },
   "source": [
    "### 2. Train the model\n",
    "Custom loss and metrics are passed to the *model.fit* function. Since our custom model is extended from Keras.model class, we can use the standard Keras *fit* function to train the model."
   ]
  },
  {
   "cell_type": "code",
   "execution_count": 2,
   "id": "mounted-intention",
   "metadata": {
    "execution": {
     "iopub.execute_input": "2021-08-04T01:06:52.600996Z",
     "iopub.status.busy": "2021-08-04T01:06:52.600429Z",
     "iopub.status.idle": "2021-08-04T01:20:33.037959Z",
     "shell.execute_reply": "2021-08-04T01:20:33.038623Z",
     "shell.execute_reply.started": "2021-08-01T18:59:30.716772Z"
    },
    "papermill": {
     "duration": 820.451606,
     "end_time": "2021-08-04T01:20:33.038857",
     "exception": false,
     "start_time": "2021-08-04T01:06:52.587251",
     "status": "completed"
    },
    "tags": []
   },
   "outputs": [
    {
     "name": "stdout",
     "output_type": "stream",
     "text": [
      "Epoch 1/40\n",
      "13/13 [==============================] - 28s 2s/step - loss: 68.5686 - ctc_accuracy: 0.0088\n",
      "Epoch 2/40\n",
      "13/13 [==============================] - 20s 2s/step - loss: 18.3547 - ctc_accuracy: 0.0000e+00\n",
      "Epoch 3/40\n",
      "13/13 [==============================] - 20s 2s/step - loss: 17.0812 - ctc_accuracy: 0.0000e+00\n",
      "Epoch 4/40\n",
      "13/13 [==============================] - 20s 2s/step - loss: 16.6551 - ctc_accuracy: 0.0000e+00\n",
      "Epoch 5/40\n",
      "13/13 [==============================] - 20s 2s/step - loss: 16.4988 - ctc_accuracy: 0.0000e+00\n",
      "Epoch 6/40\n",
      "13/13 [==============================] - 20s 2s/step - loss: 16.4190 - ctc_accuracy: 0.0000e+00\n",
      "Epoch 7/40\n",
      "13/13 [==============================] - 20s 2s/step - loss: 16.3742 - ctc_accuracy: 0.0000e+00\n",
      "Epoch 8/40\n",
      "13/13 [==============================] - 20s 2s/step - loss: 16.3485 - ctc_accuracy: 0.0000e+00\n",
      "Epoch 9/40\n",
      "13/13 [==============================] - 20s 2s/step - loss: 16.3232 - ctc_accuracy: 0.0000e+00\n",
      "Epoch 10/40\n",
      "13/13 [==============================] - 20s 2s/step - loss: 16.2992 - ctc_accuracy: 0.0000e+00\n",
      "Epoch 11/40\n",
      "13/13 [==============================] - 21s 2s/step - loss: 16.2557 - ctc_accuracy: 0.0000e+00\n",
      "Epoch 12/40\n",
      "13/13 [==============================] - 20s 2s/step - loss: 16.1881 - ctc_accuracy: 0.0000e+00\n",
      "Epoch 13/40\n",
      "13/13 [==============================] - 20s 2s/step - loss: 16.0729 - ctc_accuracy: 0.0000e+00\n",
      "Epoch 14/40\n",
      "13/13 [==============================] - 20s 2s/step - loss: 15.8720 - ctc_accuracy: 0.0000e+00\n",
      "Epoch 15/40\n",
      "13/13 [==============================] - 20s 2s/step - loss: 15.5425 - ctc_accuracy: 0.0000e+00\n",
      "Epoch 16/40\n",
      "13/13 [==============================] - 20s 2s/step - loss: 15.0265 - ctc_accuracy: 0.0000e+00\n",
      "Epoch 17/40\n",
      "13/13 [==============================] - 20s 2s/step - loss: 14.2870 - ctc_accuracy: 0.0000e+00\n",
      "Epoch 18/40\n",
      "13/13 [==============================] - 20s 2s/step - loss: 13.1684 - ctc_accuracy: 0.0000e+00\n",
      "Epoch 19/40\n",
      "13/13 [==============================] - 21s 2s/step - loss: 11.4997 - ctc_accuracy: 0.0000e+00\n",
      "Epoch 20/40\n",
      "13/13 [==============================] - 20s 2s/step - loss: 9.3624 - ctc_accuracy: 0.0019\n",
      "Epoch 21/40\n",
      "13/13 [==============================] - 20s 2s/step - loss: 6.9598 - ctc_accuracy: 0.0724\n",
      "Epoch 22/40\n",
      "13/13 [==============================] - 20s 2s/step - loss: 4.8242 - ctc_accuracy: 0.2474\n",
      "Epoch 23/40\n",
      "13/13 [==============================] - 20s 2s/step - loss: 3.3789 - ctc_accuracy: 0.4148\n",
      "Epoch 24/40\n",
      "13/13 [==============================] - 20s 2s/step - loss: 2.4971 - ctc_accuracy: 0.5789\n",
      "Epoch 25/40\n",
      "13/13 [==============================] - 21s 2s/step - loss: 1.9256 - ctc_accuracy: 0.7559\n",
      "Epoch 26/40\n",
      "13/13 [==============================] - 20s 2s/step - loss: 1.5345 - ctc_accuracy: 0.8250\n",
      "Epoch 27/40\n",
      "13/13 [==============================] - 20s 2s/step - loss: 1.2537 - ctc_accuracy: 0.8666\n",
      "Epoch 28/40\n",
      "13/13 [==============================] - 20s 2s/step - loss: 1.0809 - ctc_accuracy: 0.8964\n",
      "Epoch 29/40\n",
      "13/13 [==============================] - 20s 2s/step - loss: 0.9448 - ctc_accuracy: 0.9069\n",
      "Epoch 30/40\n",
      "13/13 [==============================] - 20s 2s/step - loss: 0.8249 - ctc_accuracy: 0.9328\n",
      "Epoch 31/40\n",
      "13/13 [==============================] - 20s 2s/step - loss: 0.7117 - ctc_accuracy: 0.9356\n",
      "Epoch 32/40\n",
      "13/13 [==============================] - 20s 2s/step - loss: 0.5871 - ctc_accuracy: 0.9689\n",
      "Epoch 33/40\n",
      "13/13 [==============================] - 20s 2s/step - loss: 0.5109 - ctc_accuracy: 0.9742\n",
      "Epoch 34/40\n",
      "13/13 [==============================] - 21s 2s/step - loss: 0.4195 - ctc_accuracy: 0.9835\n",
      "Epoch 35/40\n",
      "13/13 [==============================] - 20s 2s/step - loss: 0.3573 - ctc_accuracy: 0.9852\n",
      "Epoch 36/40\n",
      "13/13 [==============================] - 20s 2s/step - loss: 0.2907 - ctc_accuracy: 0.9896\n",
      "Epoch 37/40\n",
      "13/13 [==============================] - 20s 2s/step - loss: 0.2624 - ctc_accuracy: 0.9932\n",
      "Epoch 38/40\n",
      "13/13 [==============================] - 20s 2s/step - loss: 0.2345 - ctc_accuracy: 0.9938\n",
      "Epoch 39/40\n",
      "13/13 [==============================] - 20s 2s/step - loss: 0.1926 - ctc_accuracy: 0.9973\n",
      "Epoch 40/40\n",
      "13/13 [==============================] - 20s 2s/step - loss: 0.1651 - ctc_accuracy: 0.9985\n"
     ]
    }
   ],
   "source": [
    "m = captcha_model.CTCAccuracy(max_label_len)\n",
    "model.compile(optimizer='adam', loss = captcha_model.loss_func, metrics= m )\n",
    "hist = model.fit(train, epochs = 40)\n"
   ]
  },
  {
   "cell_type": "markdown",
   "id": "still-hotel",
   "metadata": {
    "papermill": {
     "duration": 0.146153,
     "end_time": "2021-08-04T01:20:33.343471",
     "exception": false,
     "start_time": "2021-08-04T01:20:33.197318",
     "status": "completed"
    },
    "tags": []
   },
   "source": [
    "### 3. Evaluate the model\n",
    "Once the training is complete, next step is to evaluate the model performance on test set. Since our custom model is extended from Keras.model class, we can use the standard Keras functions to evaluate the model."
   ]
  },
  {
   "cell_type": "code",
   "execution_count": 3,
   "id": "brilliant-insertion",
   "metadata": {
    "execution": {
     "iopub.execute_input": "2021-08-04T01:20:33.637174Z",
     "iopub.status.busy": "2021-08-04T01:20:33.636568Z",
     "iopub.status.idle": "2021-08-04T01:20:37.084958Z",
     "shell.execute_reply": "2021-08-04T01:20:37.085662Z",
     "shell.execute_reply.started": "2021-08-01T19:12:59.42028Z"
    },
    "papermill": {
     "duration": 3.599372,
     "end_time": "2021-08-04T01:20:37.085832",
     "exception": false,
     "start_time": "2021-08-04T01:20:33.486460",
     "status": "completed"
    },
    "tags": []
   },
   "outputs": [
    {
     "name": "stdout",
     "output_type": "stream",
     "text": [
      "4/4 [==============================] - 3s 362ms/step - loss: 0.1281 - ctc_accuracy: 0.9962\n",
      "[0.12805616855621338, 0.9961538910865784]\n"
     ]
    }
   ],
   "source": [
    "X = obj.get_column( test, 0 )\n",
    "X = obj.make_batches(X)\n",
    "Y = obj.get_column( test, 1 )\n",
    "\n",
    "test = obj.make_batches(test)\n",
    "results =  model.evaluate( test )\n",
    "print(results) \n"
   ]
  },
  {
   "cell_type": "markdown",
   "id": "helpful-violation",
   "metadata": {
    "papermill": {
     "duration": 0.142763,
     "end_time": "2021-08-04T01:20:37.371897",
     "exception": false,
     "start_time": "2021-08-04T01:20:37.229134",
     "status": "completed"
    },
    "tags": []
   },
   "source": [
    "### 4. Use the *model.predict* function to get the predictions generated by the model"
   ]
  },
  {
   "cell_type": "code",
   "execution_count": 4,
   "id": "reasonable-boutique",
   "metadata": {
    "execution": {
     "iopub.execute_input": "2021-08-04T01:20:37.663848Z",
     "iopub.status.busy": "2021-08-04T01:20:37.663239Z",
     "iopub.status.idle": "2021-08-04T01:20:40.799973Z",
     "shell.execute_reply": "2021-08-04T01:20:40.799355Z",
     "shell.execute_reply.started": "2021-08-01T19:13:16.543052Z"
    },
    "papermill": {
     "duration": 3.283325,
     "end_time": "2021-08-04T01:20:40.800132",
     "exception": false,
     "start_time": "2021-08-04T01:20:37.516807",
     "status": "completed"
    },
    "tags": []
   },
   "outputs": [],
   "source": [
    "\n",
    "def decode_predictions( pred, max_label_len ):\n",
    "    input_len = np.ones(pred.shape[0]) * pred.shape[1]\n",
    "    # Use greedy search. For complex tasks, you can use beam search\n",
    "    encoded_labels =K.ctc_decode(pred, input_length=input_len, greedy=True)[0][0][:,0: max_label_len]\n",
    "    decoded_labels = []\n",
    "    for encoded_label in encoded_labels:\n",
    "        i = 0\n",
    "        label = []\n",
    "        for code in encoded_label:\n",
    "            if code.numpy() not in obj.label_int_to_char:\n",
    "                label.append('?')\n",
    "            else:\n",
    "                label.append(obj.label_int_to_char[code.numpy()])\n",
    "        decoded_labels.append(label)\n",
    "    return decoded_labels, encoded_labels\n",
    "\n",
    "\n",
    "pred = model.predict(X)\n",
    "decoded_labels, encoded_labels = decode_predictions(pred,max_label_len )\n"
   ]
  },
  {
   "cell_type": "markdown",
   "id": "soviet-publication",
   "metadata": {
    "papermill": {
     "duration": 0.142857,
     "end_time": "2021-08-04T01:20:41.086658",
     "exception": false,
     "start_time": "2021-08-04T01:20:40.943801",
     "status": "completed"
    },
    "tags": []
   },
   "source": [
    "### 5. Display the predictions along with the captcha images"
   ]
  },
  {
   "cell_type": "code",
   "execution_count": 5,
   "id": "adjacent-adult",
   "metadata": {
    "execution": {
     "iopub.execute_input": "2021-08-04T01:20:41.380524Z",
     "iopub.status.busy": "2021-08-04T01:20:41.379912Z",
     "iopub.status.idle": "2021-08-04T01:20:41.755459Z",
     "shell.execute_reply": "2021-08-04T01:20:41.755913Z",
     "shell.execute_reply.started": "2021-08-01T19:32:31.730299Z"
    },
    "papermill": {
     "duration": 0.52583,
     "end_time": "2021-08-04T01:20:41.756093",
     "exception": false,
     "start_time": "2021-08-04T01:20:41.230263",
     "status": "completed"
    },
    "tags": []
   },
   "outputs": [
    {
     "data": {
      "image/png": "[encoded data removed]",
      "text/plain": [
       "<Figure size 360x216 with 4 Axes>"
      ]
     },
     "metadata": {
      "needs_background": "light"
     },
     "output_type": "display_data"
    }
   ],
   "source": [
    "def display_samples( sample_images , labels):\n",
    "    _,ax = plt.subplots(2,2, figsize=(5,3))\n",
    "    for i in range(4):\n",
    "        ax[i//2, i%2].imshow(np.transpose(sample_images[i],[1,0,2]) )\n",
    "        ax[i//2, i%2].axis('off')\n",
    "        ax[i//2, i%2].set_title(labels[i])\n",
    "    plt.show()\n",
    "\n",
    "it = X.as_numpy_iterator()\n",
    "batch = it.next()\n",
    "sample_images = [batch[i] for i in range(4)]\n",
    "display_samples(sample_images,decoded_labels[0:4])       \n",
    "     "
   ]
  }
 ],
 "metadata": {
  "kernelspec": {
   "display_name": "Python 3",
   "language": "python",
   "name": "python3"
  },
  "language_info": {
   "codemirror_mode": {
    "name": "ipython",
    "version": 3
   },
   "file_extension": ".py",
   "mimetype": "text/x-python",
   "name": "python",
   "nbconvert_exporter": "python",
   "pygments_lexer": "ipython3",
   "version": "3.7.10"
  },
  "papermill": {
   "default_parameters": {},
   "duration": 845.090562,
   "end_time": "2021-08-04T01:20:44.374093",
   "environment_variables": {},
   "exception": null,
   "input_path": "__notebook__.ipynb",
   "output_path": "__notebook__.ipynb",
   "parameters": {},
   "start_time": "2021-08-04T01:06:39.283531",
   "version": "2.3.3"
  }
 },
 "nbformat": 4,
 "nbformat_minor": 5
}
